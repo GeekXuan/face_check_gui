{
 "cells": [
  {
   "cell_type": "markdown",
   "metadata": {},
   "source": [
    "# 一.python初探"
   ]
  },
  {
   "cell_type": "markdown",
   "metadata": {},
   "source": [
    "## 1.谈谈python\n",
    "\n",
    "### Python的工业应用\n",
    "#### Python其实就在我们身边\n",
    "网站：知乎、豆瓣、YouTube、Reddit<br>\n",
    "游戏：文明4、战地2<br>\n",
    "软件：Cinema 4D、MySQL Workbench<br>\n",
    "其他：Google - 谷歌在很多项目中用python作为网络应用的后端，如Google Groups、Gmail、Google Maps等，Google App Engine支持python作为开发语言<br>\n",
    "NASA - 美国宇航局，从1994年起把python作为主要开发语言<br>\n",
    "\n",
    "![](http://zhixuan001.wang/wzx/somepic/1_4pic/10.png)\n",
    "\n",
    "### python究竟有多流行？？？\n",
    "\n",
    "* 2017-07-20: IEEE Spectrum发布的[研究报告](https://spectrum.ieee.org/static/interactive-the-top-programming-languages-2017)显示，结合 10 个线上数据源的 12 个标准<br \\>在 2016 年排名第三的 Python 在今年已经成为世界上最受欢迎的语言\n",
    "\n",
    "![](http://zhixuan001.wang/wzx/somepic/1_4pic/01.jpg)\n",
    "\n",
    "* 2017-10-12: GitHub 发布的[2017年年度数据报告](https://octoverse.github.com)上最受欢迎的前 15 门语言中，Python 已代替 Java 从去年的第三突进了第二，相比去年它新增了 40% 的 Pull Request\n",
    "\n",
    "![](http://zhixuan001.wang/wzx/somepic/1_4pic/02.jpg)\n",
    "\n",
    "* 2017-11: 数据平台 Kaggle 发布了 [2017机器学习及数据科学调查报告](https://www.kaggle.com/surveys/2017)，其中 Python 是数据科学家使用最多的语言\n",
    "\n",
    "![](http://zhixuan001.wang/wzx/somepic/1_4pic/03.jpg)\n",
    "\n",
    "* 从 2018 年起，浙江省信息技术教材将不会在使用晦涩难懂的 VB 语言，而是改学更简单易懂的 Python 语言。也就是说，Python 将纳入高考内容之一。<br \\>除了浙江省,北京和山东也确定要把 Python 编程基础纳入信息技术课程和高考的内容体系。<br \\>另外，山东省最新出版的小学信息技术六年级教材也加入了 Python 内容，小学生都开始接触 Python 语言了！\n",
    "\n",
    "![](http://zhixuan001.wang/wzx/somepic/1_4pic/04.jpg)\n",
    "\n",
    "* 除了中小学的变动之外，从2018年起，Python 列入全国计算机等级考试<br \\>全国计算机等级考试二级中新增“Python 语言程序设计”科目（代码：66），考试时长：120 分钟，软件要求：Python 3.5.2 版本及以上 IDLE，2018 年 9 月首次开考。\n",
    "\n",
    "![](http://zhixuan001.wang/wzx/somepic/1_4pic/05.jpg)\n",
    "\n",
    "* 2017-12: 微软正考虑添加 Python 为官方的一种 Excel 脚本语言，如果获得批准，Excel 用户将能够像目前使用 VBA 脚本一样，使用 Python 脚本与 Excel 文档、数据以及一些 Excel 核心函数进行交互。\n",
    "\n",
    "![](http://zhixuan001.wang/wzx/somepic/1_4pic/06.png)\n",
    "\n",
    "#### 夸张一点说，如果再不学Python，你可能连Excel都不能好好使用！甚至可能都不如10后的小学生！！！\n",
    "![](http://zhixuan001.wang/wzx/somepic/1_4pic/09.jpg)"
   ]
  },
  {
   "cell_type": "markdown",
   "metadata": {},
   "source": [
    "## 2.Python究竟是什么？\n",
    "\n",
    "\n",
    "![](http://zhixuan001.wang/wzx/somepic/1_4pic/07.png)\n",
    "\n",
    "#### Python是一种语言\n",
    "\n",
    "和难学却非常重要的C语言、非常流行的Java语言一样，python语言可以将人能读懂的编程语言“翻译”成电脑可以识别的机器语言\n",
    "\n",
    "### Python是一种高级语言\n",
    "\n",
    "完成同一个任务，C语言要写1000行代码，Java只需要写100行，而Python可能只要20行<br \\>注意！！！Python的简洁是以牺牲了运行速度为代价的\n",
    "\n",
    "## Python是一种面向对象的高级程序设计语言\n",
    "\n",
    "Python支持面向对象的风格或代码封装在对象中的编程技术，在面向对象的世界里，一切都是对象\n",
    "\n",
    "Tips：Python的出现其实很偶然，是著名的“龟叔”Guido vanRossum在1989年圣诞节期间，为了打发无聊的圣诞节而编写的一个编程语言，龟叔给Python的定位是“优雅”、“明确”、“简单”。"
   ]
  },
  {
   "cell_type": "code",
   "execution_count": 157,
   "metadata": {},
   "outputs": [],
   "source": [
    "import this"
   ]
  },
  {
   "cell_type": "markdown",
   "metadata": {},
   "source": [
    "## 3.Python入门\n",
    "* ### 第一个python 程序：输入输出"
   ]
  },
  {
   "cell_type": "code",
   "execution_count": 156,
   "metadata": {},
   "outputs": [],
   "source": [
    "name = input('请输入你的姓名')#输入\n",
    "print('你好,' + name)#输出"
   ]
  },
  {
   "cell_type": "markdown",
   "metadata": {},
   "source": [
    "* ### 数据类型"
   ]
  },
  {
   "cell_type": "code",
   "execution_count": 155,
   "metadata": {},
   "outputs": [],
   "source": [
    "a_int = 4#整数型\n",
    "a_float = 2.333333#浮点数\n",
    "a_string = 'this is a string'#字符串\n",
    "a_bool = True\n",
    "a_list = [1, 1.0, '1', [1, 1.0, '1']]#列表\n",
    "a_tuple = (1, 1.0, '1', [1, 1.0, '1'])#元组\n",
    "a_set = set([1,2,3,1,2])#集合\n",
    "a_dict = {'a':1, 'b':1.0, 'c':'1'}#字典\n",
    "#print(type(a_int), type(a_float), type(a_string), type(a_bool), type(a_list), type(a_tuple), type(a_set), type(a_dict))\n",
    "#print(a_int, a_float, a_string, a_list, a_bool, a_tuple, a_set, a_dict)\n",
    "#print(a_list[0], a_tuple[1], a_dict['c'])"
   ]
  },
  {
   "cell_type": "markdown",
   "metadata": {},
   "source": [
    "* ### 计算"
   ]
  },
  {
   "cell_type": "code",
   "execution_count": 154,
   "metadata": {},
   "outputs": [],
   "source": [
    "#数学计算\n",
    "a, b = 3, 2\n",
    "#print(a + b, a - b, a * b, a / b, a ** b, a // b, a % b)#加、减、乘、除、乘方、地板除、取余\n",
    "\n",
    "#交并集\n",
    "c = set([1, 2, 3])\n",
    "d = set([2, 3, 4])\n",
    "#print(c & d, c | d)#两个集合的并集、交集\n",
    "\n",
    "#比较\n",
    "#print(4 > 4, 4 >= 4, 4 < 4, 4 <= 4)"
   ]
  },
  {
   "cell_type": "markdown",
   "metadata": {},
   "source": [
    "* ### 控制流\n"
   ]
  },
  {
   "cell_type": "code",
   "execution_count": 153,
   "metadata": {},
   "outputs": [],
   "source": [
    "#if控制语句\n",
    "if 4 == 3:#=是赋值，==是等于\n",
    "    print('4 = 3')\n",
    "else:\n",
    "    print('4 != 3')\n",
    "\n",
    "#while循环语句\n",
    "a = 1\n",
    "while a < 4:\n",
    "    print(a)\n",
    "    a += 1\n",
    "\n",
    "#for循环语句\n",
    "for i in range(1, 10, 2):\n",
    "    print(i, end = ' ')"
   ]
  },
  {
   "cell_type": "markdown",
   "metadata": {},
   "source": [
    "* ### 函数和模块"
   ]
  },
  {
   "cell_type": "code",
   "execution_count": 149,
   "metadata": {},
   "outputs": [],
   "source": [
    "#函数\n",
    "def add(a, b):#定义函数\n",
    "    return a + b\n",
    "c = add(3,5)#调用\n",
    "print(c)\n",
    "\n",
    "#模块\n",
    "import datetime#导入模块\n",
    "#print(datetime.date.today())\n",
    "#print(datetime.datetime.today())"
   ]
  },
  {
   "cell_type": "markdown",
   "metadata": {},
   "source": [
    "### 入门推荐\n",
    "教程：[廖雪峰的python教程](https://www.liaoxuefeng.com/wiki/0014316089557264a6b348958f449949df42a6d3a2e542c000)\n",
    "<br>视频：[小甲鱼的零基础入门学习Python](http://blog.fishc.com/category/python)\n",
    "<br>书籍：[python核心编程第二版](https://book.douban.com/subject/3112503/)、[python核心编程第三版](https://book.douban.com/subject/26801374/)"
   ]
  },
  {
   "cell_type": "markdown",
   "metadata": {},
   "source": [
    "### 4.拓展：正则表达式模块"
   ]
  },
  {
   "cell_type": "code",
   "execution_count": 148,
   "metadata": {},
   "outputs": [],
   "source": [
    "#print('1\\'2\\n3\\\\4')#\\是转义字符\n",
    "#print('\\\\',r'\\\\')#r：表示后面的是原始字符串"
   ]
  },
  {
   "cell_type": "markdown",
   "metadata": {},
   "source": [
    "*\t.匹配所有字符，换行符除外\n",
    "*\t\\d、\\w 和\\s 分别匹配数字、单词和空格\n",
    "*\t\\D、\\W 和\\S 分别匹配除数字、单词和空格外的所有字符\n",
    "*\t[abc]匹配方括号内的任意字符（诸如 a、b 或 c）。\n",
    "*\t[^abc]匹配不在方括号内的任意字符\n",
    "*\t?匹配零次或一次前面的分组\n",
    "*\t*匹配零次或多次前面的分组\n",
    "*\t+匹配一次或多次前面的分组\n",
    "*\t{n}匹配 n 次前面的分组\n",
    "*\t{n,}匹配 n 次或更多次前面的分组\n",
    "*\t{,m}匹配零次到 m 次前面的分组\n",
    "*\t{n,m}匹配至少 n 次、至多 m 次前面的分组\n",
    "*\t{n,m}?或*?或+?对前面的分组进行非贪心匹配\n",
    "*\t^spam 意味着字符串必须以 spam 开始\n",
    "*\tspam$意味着字符串必须以 spam 结束\n",
    "*   re.I或者re.re.IGNORECASE : 忽略大小写\n",
    "*   re.DOTALL : .可以匹配换行符\n",
    "*   re.VERBOSE : 忽略注释和空白"
   ]
  },
  {
   "cell_type": "code",
   "execution_count": 146,
   "metadata": {},
   "outputs": [],
   "source": [
    "import re #导入re模块\n",
    "#1.匹配单个\n",
    "#print(re.compile(r'\\d').search('1a 2b'))#\\d匹配数字\n",
    "#print(re.compile(r'\\D').search('1a 2b').group())#\\D匹配非数字\n",
    "#print(re.compile(r'\\w').search('1a 2b').group())#\\w匹配数字和字母\n",
    "#print(re.compile(r'\\W').search('1a 2b').group())#\\W匹配非数字和字母\n",
    "#print(re.compile(r'\\s').search('1a 2b').group())#\\s匹配空格\n",
    "#print(re.compile(r'\\S').search('1a 2b').group())#\\S匹配非空格\n",
    "#.匹配所有\n",
    "#print(re.compile(r'.').search('1a 2b').group())#匹配数字\n",
    "#print(re.compile(r'.').search('a1 2b').group())#匹配字母\n",
    "\n",
    "#2.匹配多个\n",
    "#print(re.compile(r'\\d\\w').search('1a 2b').group())#匹配一个数字和字母\n",
    "#print(re.compile(r'\\d\\d').search('12345').group())#匹配两个数字\n",
    "#print(re.compile(r'\\d?').search('12345').group())#?匹配0-1次\n",
    "#print(re.compile(r'\\d+').search('12345').group())#+匹配1-∞次\n",
    "#print(re.compile(r'\\d*').search('12345').group())#*匹配0-∞次\n",
    "#print(re.compile(r'\\d{2,4}').search('12345').group())#{m,n}匹配m-n次\n",
    "#print(re.compile(r'\\d{2,4}?').search('12345').group())#？关闭贪婪模式\n",
    "#匹配[]内的内容\n",
    "#print(re.compile(r'[1-3a-b]+').search('1a42b').group())\n",
    "#print(re.compile(r'[1-3]|[a-b]+').search('1a42b').group())\n",
    "#print(re.compile(r'([1-3]|[a-b])+').search('1a42b').group())\n",
    "\n",
    "#3.特殊符号^和$\n",
    "#print(re.compile(r'[^\\d]').search('1a 2b').group())#匹配非[]里的内容\n",
    "#print(re.compile(r'^\\d').search('1a 2b').group())#匹配以数字开头的\n",
    "#print(re.compile(r'^http.+com$').search(r'https:\\\\www.bytedance.com').group())\n",
    "#print(re.compile(r'^http.+com$').search('https:\\\\www.bytedance.com').group())\n",
    "\n",
    "#4.三个特殊的参数\n",
    "#print(re.compile(r'hello world',re.I).search('Hello World').group())#不区分大小写的匹配\n",
    "#print(re.compile(r'.*').search('Hello\\nWorld').group())#.不能匹配换行符\n",
    "#print(re.compile(r'.*',re.DOTALL).search('Hello\\nWorld').group())#.能匹配换行符\n",
    "phoneRegex = re.compile(r'((\\d{3}|\\(\\d{3}\\))?(\\s|-|\\.)?\\d{3}(\\s|-|\\.)\\d{4} (\\s*(ext|x|ext.)\\s*\\d{2,5})?)')\n",
    "phoneRegex = re.compile(r'''( \n",
    " (\\d{3}|\\(\\d{3}\\))?   # 国家号\n",
    " (\\s|-|\\.)?  # 分隔符\n",
    " \\d{3}  #区号\n",
    " (\\s|-|\\.) #分隔符\n",
    " \\d{4} #电话\n",
    " (\\s*(ext|x|ext.)\\s*\\d{2,5})?  )''', re.VERBOSE) "
   ]
  },
  {
   "cell_type": "markdown",
   "metadata": {},
   "source": [
    "## 二.Demo：自动化生成工作记录脚本"
   ]
  },
  {
   "cell_type": "markdown",
   "metadata": {},
   "source": [
    "### 1.利用selenium维护员工名单"
   ]
  },
  {
   "cell_type": "code",
   "execution_count": 145,
   "metadata": {},
   "outputs": [],
   "source": [
    "import time, os\n",
    "from selenium import webdriver\n",
    "from selenium.webdriver.common.keys import Keys\n",
    "\n",
    "\n",
    "def main():\n",
    "    if os.path.exists('员工.txt'):\n",
    "        os.remove('员工.txt')\n",
    "    broser = webdriver.Firefox(executable_path='./geckodriver')#启动浏览器\n",
    "    broser.get('https://partner.outlook.cn')#进入登陆页面\n",
    "    userid = broser.find_element_by_id('cred_userid_inputtext')#找到账号框\n",
    "    pwd = broser.find_element_by_id('cred_password_inputtext')#找到密码框\n",
    "    #补充上这里再运行\n",
    "    userid.send_keys('*********')#账户\n",
    "    pwd.send_keys('*******')#密码\n",
    "    pwd.submit()#登陆\n",
    "    time.sleep(2)\n",
    "    #转到组页面\n",
    "    broser.get('https://partner.outlook.cn/owa/?path=/group/ttreview-biaozhu@bytedance.com/people')#数据标注组的\n",
    "    #broser.get('https://partner.outlook.cn/owa/?path=/group/ttreview@bytedance.com/people')#复审组的\n",
    "    time.sleep(10)\n",
    "    mylist = broser.find_elements_by_css_selector('span._x_A.PersonaPaneLauncher')#找到个人信息控件\n",
    "    print('共有%d个员工：' % len(mylist))\n",
    "    scroll = broser.find_element_by_css_selector('div._x_x.scrollContainer')#找到外层容器\n",
    "    scroll.send_keys(Keys.DOWN)#向下翻\n",
    "    scroll.send_keys(Keys.DOWN)\n",
    "    for each in mylist:\n",
    "        each.click()\n",
    "        time.sleep(2)\n",
    "        #获取信息\n",
    "        emp_name = broser.find_element_by_css_selector('span._pe_i1._pe_t1.ms-font-size-xxl.ms-fwt-r.ms-font-color-neutralPrimary._pe_21.bidi.allowTextSelection').text\n",
    "        emp_mail = broser.find_elements_by_css_selector('span.ms-font-s.ms-font-color-themePrimary')[0].text\n",
    "        emp_phone = broser.find_elements_by_css_selector('span.ms-font-s.ms-font-color-themePrimary')[1].text\n",
    "        scroll.send_keys(Keys.DOWN)#向下翻\n",
    "        scroll.send_keys(Keys.DOWN)\n",
    "        print('%s %s %s'%((emp_name,emp_mail,emp_phone)))\n",
    "        with open('员工.txt','a') as f:#写入txt\n",
    "            f.write('%s %s %s\\n'%((emp_name,emp_mail,emp_phone)))\n",
    "    broser.close()#关闭浏览器\n",
    "\n",
    "if __name__ == '__main__':\n",
    "    main()"
   ]
  },
  {
   "cell_type": "markdown",
   "metadata": {},
   "source": [
    "### 2.利用requests获得后台数据"
   ]
  },
  {
   "cell_type": "markdown",
   "metadata": {},
   "source": [
    "### 3.利用openpyxl生成工作记录表格"
   ]
  },
  {
   "cell_type": "code",
   "execution_count": 147,
   "metadata": {},
   "outputs": [],
   "source": [
    "import requests,datetime,os,openpyxl,codecs,pprint\n",
    "from openpyxl.styles import Alignment\n",
    "\n",
    "all_list = {}\n",
    "emp_list = {}\n",
    "\n",
    "def get_data(name,time_s = datetime.date.today()):#获取json数据\n",
    "    time_e = time_s + datetime.timedelta(days=1)\n",
    "    starttime = '%d-%d-%d' % ((time_s.year,time_s.month,time_s.day))\n",
    "    endtime = '%d-%d-%d' % ((time_e.year,time_e.month,time_e.day))\n",
    "    #url & cookie需要换成自己的！！！\n",
    "    url = 'https://crawl.jiyunhudong.net/ops/ajax/get_merge_data/?db_name=ops_mergedata&collection_name=tcs_verifier_merge_hourly&match=%7B%22merge_id.verifier%22:%22{name}%22%7D&merge=[]&aggregate=%7B%22$group%22:%7B%22verify_count%22:%7B%22$sum%22:%22$verify_count%22%7D,%22product_type%22:%7B%22$first%22:%22$merge_id.product_type%22%7D,%22blind_same_count%22:%7B%22$sum%22:%22$blind_same_count%22%7D,%22lapse_task_ids%22:%7B%22$push%22:%22$lapse_task_ids%22%7D,%22blind_not_same_task_ids%22:%7B%22$push%22:%22$blind_not_same_task_ids%22%7D,%22verify_duration_sum%22:%7B%22$sum%22:%22$verify_duration_sum%22%7D,%22verify_delay_sum%22:%7B%22$sum%22:%22$verify_delay_sum%22%7D,%22first_verified_count%22:%7B%22$sum%22:%22$first_verified_count%22%7D,%22first_audit_count%22:%7B%22$sum%22:%22$first_audit_count%22%7D,%22closed_count%22:%7B%22$sum%22:%22$closed_count%22%7D,%22_id%22:%22$merge_id.project_title%22,%22blind_not_same_count%22:%7B%22$sum%22:%22$blind_not_same_count%22%7D,%22blind_count%22:%7B%22$sum%22:%22$blind_count%22%7D,%22lapse_count%22:%7B%22$sum%22:%22$lapse_count%22%7D%7D%7D&start_time={starttime}+00:00:00&end_time={endtime}+00:00:00'.format(name = name,starttime=starttime,endtime = endtime)\n",
    "    headers = {'Accept':'application/json, text/plain, */*', \\\n",
    "            'Cookie':'sessionid=rgnfz7in1jxcx5vhf170t6eahkojcbu3', \\\n",
    "            'Host':'crawl.jiyunhudong.net', \\\n",
    "            'Referer':'https://crawl.jiyunhudong.net/ops/dashboard/%E4%B8%AA%E4%BA%BA%E4%BB%BB%E5%8A%A1%E7%BB%9F%E8%AE%A1/?verifier={name}'.format(name = name), \\\n",
    "            'User-Agent':'Mozilla/5.0 (Macintosh; Intel Mac OS X 10_13_1) AppleWebKit/537.36 (KHTML, like Gecko) Chrome/62.0.3202.94 Safari/537.36', \\\n",
    "              }\n",
    "    r = requests.get(url=url, headers = headers)\n",
    "    data = r.json()['data']\n",
    "    return data\n",
    "\n",
    "def process_data(name, data):#处理数据\n",
    "    global all_list\n",
    "    #pprint.pprint(data)\n",
    "    for each in data:\n",
    "        _id = each['_id'].replace(' ','')\n",
    "        product_type = each['product_type']\n",
    "        verify_count = each['verify_count']\n",
    "        verify_duration_sum = each['verify_duration_sum']\n",
    "        if verify_count > 0:\n",
    "            if _id  not in all_list:\n",
    "                all_list[_id] = [product_type]\n",
    "            all_list[_id].append('%s %s %s' % ((name,verify_count,verify_duration_sum)))\n",
    "\n",
    "def mymerge(ws, cell_range):#合并单元格\n",
    "    first_cell = ws[cell_range.split(\":\")[0]]\n",
    "    ws.merge_cells(cell_range)\n",
    "    first_cell.alignment = Alignment(horizontal=\"center\", vertical=\"center\")\n",
    "\n",
    "def to_excel(filename):#生成表格\n",
    "    wb = openpyxl.Workbook()\n",
    "    sheet = wb.get_active_sheet()\n",
    "    #填写表头\n",
    "    head = ['项目名称','项目分类', '项目需求总量', '项目日总量', '任务领取人', '当日完成量', '当日个人人力投入', '当日个人人力投入（单位：小时）', '参与常规标注工作外的任务概述', '备注']\n",
    "    for i, x in enumerate(head):\n",
    "        sheet.cell(row=1, column=i + 1).value = x\n",
    "        sheet.cell(row=1, column=i + 1).alignment = Alignment(horizontal=\"center\", vertical=\"center\")\n",
    "    #填写内容\n",
    "    myrow = 2#记录现在的行数\n",
    "    for each in all_list:\n",
    "        #公共部分\n",
    "        length = len(all_list[each]) - 1\n",
    "        sheet['A' + str(myrow)] = each\n",
    "        mymerge(sheet, 'A%d:A%d' % (myrow, myrow + length - 1))\n",
    "        sheet['B' + str(myrow)] = all_list[each][0]\n",
    "        mymerge(sheet, 'B%d:B%d' % (myrow, myrow + length - 1))\n",
    "        mymerge(sheet, 'C%d:C%d' % (myrow, myrow + length - 1))\n",
    "        mymerge(sheet, 'D%d:D%d' % (myrow, myrow + length - 1))\n",
    "        sum_all = 0\n",
    "        #每个人的记录\n",
    "        for i,x in enumerate(all_list[each][1:]):\n",
    "            temp = x.split()\n",
    "            sheet['E' + str(myrow + i)] = emp_list[temp[0]]#姓名\n",
    "            sheet['F' + str(myrow + i)] = temp[1]#工作量\n",
    "            sum_all += int(temp[1])\n",
    "            sheet['H' + str(myrow + i)] = int(temp[2])/3600\n",
    "            sheet['G' + str(myrow + i)] = int(temp[2])/3600/8\n",
    "            for n in range(5, 9):\n",
    "                sheet.cell(row=myrow + i, column=n).alignment = Alignment(horizontal=\"center\", vertical=\"center\")\n",
    "        sheet['D' + str(myrow)] = sum_all\n",
    "        myrow += length\n",
    "    wb.save(filename + '.xlsx')\n",
    "\n",
    "def main():\n",
    "    global emp_list\n",
    "    if not os.path.exists('员工.txt'):\n",
    "        print('未找到员工名单！')\n",
    "        return\n",
    "    with open('员工.txt', 'r') as f:\n",
    "        emp_list = {x.replace('\\n','').split()[1].split('@')[0]:x.replace('\\n','').split()[0] for x in f.readlines()}\n",
    "    choice = 'choice'\n",
    "    while choice not in ('1','2', ''):\n",
    "        if choice != 'choice':\n",
    "            print('输入错误，请重新输入！')\n",
    "        choice = input('1.打印今日(默认，直接回车即选择此项)；\\n2.指定日期。\\n请选择：')\n",
    "    date = ''\n",
    "    if choice == '1' or choice == '':\n",
    "        t_time = datetime.date.today()\n",
    "        date = '-'.join([str(x) for x in [t_time.year,t_time.month,t_time.day]])\n",
    "        print('请稍候...')\n",
    "        for each in emp_list:\n",
    "            process_data(each,get_data(each))\n",
    "    elif choice == '2':\n",
    "        date = input('请按照\"年-月-日\"输入指定日期：\\n')\n",
    "        while True:\n",
    "            try:\n",
    "                temp = date.split('-')\n",
    "                time_now = datetime.datetime(int(temp[0]), int(temp[1]), int(temp[2]))\n",
    "                break\n",
    "            except:\n",
    "                date = input('输入错误！请按照\"年-月-日\"重新输入指定日期：\\n')\n",
    "        print('请稍候...')\n",
    "        for each in emp_list:\n",
    "            process_data(each,get_data(each, time_now))\n",
    "    to_excel(date)\n",
    "    print('完成！')\n",
    "\n",
    "if __name__ == '__main__':\n",
    "    main()"
   ]
  }
 ],
 "metadata": {
  "kernelspec": {
   "display_name": "Python 3",
   "language": "python",
   "name": "python3"
  },
  "language_info": {
   "codemirror_mode": {
    "name": "ipython",
    "version": 3
   },
   "file_extension": ".py",
   "mimetype": "text/x-python",
   "name": "python",
   "nbconvert_exporter": "python",
   "pygments_lexer": "ipython3",
   "version": "3.6.2"
  }
 },
 "nbformat": 4,
 "nbformat_minor": 2
}
